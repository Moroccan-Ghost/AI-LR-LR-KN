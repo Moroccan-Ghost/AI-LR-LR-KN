{
 "cells": [
  {
   "cell_type": "markdown",
   "metadata": {},
   "source": [
    "Problematique : Consumer Complaint Classification"
   ]
  },
  {
   "cell_type": "code",
   "execution_count": 43,
   "metadata": {},
   "outputs": [],
   "source": [
    "#imports : \n",
    "import csv\n",
    "import re #for RegEx\n",
    "import pandas as pd\n",
    "import tensorflow as tf\n",
    "import numpy as np\n",
    "import sklearn\n",
    "from tensorflow.keras.models import Sequential\n",
    "from sklearn.model_selection import train_test_split\n",
    "from tensorflow.keras.layers import Dense, Embedding, SpatialDropout1D, LSTM\n",
    "from tensorflow.keras.callbacks import EarlyStopping\n",
    "from tensorflow.keras.preprocessing.text import Tokenizer\n",
    "from tensorflow.keras.preprocessing.sequence import pad_sequences\n",
    "import matplotlib.pyplot as plt\n",
    "import nltk\n",
    "#nltk.download('stopwords') #just remove comments if you don't have stopwords\n",
    "from nltk.corpus import stopwords\n",
    "STOPWORDS = set(stopwords.words('english')) #i used english ones cuz Dataset is in english"
   ]
  },
  {
   "cell_type": "markdown",
   "metadata": {},
   "source": [
    "# Load and Viz data & Data pre-processing"
   ]
  },
  {
   "cell_type": "markdown",
   "metadata": {},
   "source": [
    "Due to the large size of csv file (>1gb), i will read only the first 250k row"
   ]
  },
  {
   "cell_type": "code",
   "execution_count": 44,
   "metadata": {},
   "outputs": [
    {
     "name": "stderr",
     "output_type": "stream",
     "text": [
      "C:\\Users\\lenovo\\anaconda3\\lib\\site-packages\\IPython\\core\\interactiveshell.py:3146: DtypeWarning: Columns (9) have mixed types.Specify dtype option on import or set low_memory=False.\n",
      "  has_raised = await self.run_ast_nodes(code_ast.body, cell_name,\n"
     ]
    },
    {
     "name": "stdout",
     "output_type": "stream",
     "text": [
      "<class 'pandas.core.frame.DataFrame'>\n",
      "RangeIndex: 250000 entries, 0 to 249999\n",
      "Data columns (total 18 columns):\n",
      " #   Column                        Non-Null Count   Dtype \n",
      "---  ------                        --------------   ----- \n",
      " 0   Date received                 250000 non-null  object\n",
      " 1   Product                       250000 non-null  object\n",
      " 2   Sub-product                   245831 non-null  object\n",
      " 3   Issue                         250000 non-null  object\n",
      " 4   Sub-issue                     222278 non-null  object\n",
      " 5   Consumer complaint narrative  66656 non-null   object\n",
      " 6   Company public response       101835 non-null  object\n",
      " 7   Company                       250000 non-null  object\n",
      " 8   State                         247892 non-null  object\n",
      " 9   ZIP code                      247833 non-null  object\n",
      " 10  Tags                          25158 non-null   object\n",
      " 11  Consumer consent provided?    140330 non-null  object\n",
      " 12  Submitted via                 250000 non-null  object\n",
      " 13  Date sent to company          250000 non-null  object\n",
      " 14  Company response to consumer  250000 non-null  object\n",
      " 15  Timely response?              250000 non-null  object\n",
      " 16  Consumer disputed?            16378 non-null   object\n",
      " 17  Complaint ID                  250000 non-null  int64 \n",
      "dtypes: int64(1), object(17)\n",
      "memory usage: 34.3+ MB\n"
     ]
    }
   ],
   "source": [
    "#Read the data from CSV file \n",
    "df = pd.read_csv('complaints_dataset_full.csv', nrows=250000)\n",
    "df.info()"
   ]
  },
  {
   "cell_type": "code",
   "execution_count": 45,
   "metadata": {},
   "outputs": [
    {
     "data": {
      "text/plain": [
       "Credit reporting, credit repair services, or other personal consumer reports    162779\n",
       "Debt collection                                                                  26062\n",
       "Mortgage                                                                         15617\n",
       "Credit card or prepaid card                                                      12964\n",
       "Checking or savings account                                                      12477\n",
       "Money transfer, virtual currency, or money service                                4095\n",
       "Student loan                                                                      3759\n",
       "Vehicle loan or lease                                                             2937\n",
       "Credit reporting                                                                  2738\n",
       "Bank account or service                                                           2119\n",
       "Payday loan, title loan, or personal loan                                         2116\n",
       "Credit card                                                                       1347\n",
       "Consumer Loan                                                                      687\n",
       "Money transfers                                                                    128\n",
       "Payday loan                                                                         84\n",
       "Prepaid card                                                                        54\n",
       "Other financial service                                                             36\n",
       "Virtual currency                                                                     1\n",
       "Name: Product, dtype: int64"
      ]
     },
     "execution_count": 45,
     "metadata": {},
     "output_type": "execute_result"
    }
   ],
   "source": [
    "df.Product.value_counts()"
   ]
  },
  {
   "cell_type": "code",
   "execution_count": 46,
   "metadata": {},
   "outputs": [
    {
     "data": {
      "text/plain": [
       "<bound method DataFrame.prod of        Date received                                            Product  \\\n",
       "0         2022-04-28                        Checking or savings account   \n",
       "1         2022-06-01  Credit reporting, credit repair services, or o...   \n",
       "2         2022-05-24                                           Mortgage   \n",
       "3         2022-05-24  Credit reporting, credit repair services, or o...   \n",
       "4         2022-05-19  Credit reporting, credit repair services, or o...   \n",
       "...              ...                                                ...   \n",
       "249995    2019-03-06                                    Debt collection   \n",
       "249996    2019-03-07  Credit reporting, credit repair services, or o...   \n",
       "249997    2019-05-17  Credit reporting, credit repair services, or o...   \n",
       "249998    2019-05-16  Credit reporting, credit repair services, or o...   \n",
       "249999    2022-02-28  Credit reporting, credit repair services, or o...   \n",
       "\n",
       "                       Sub-product  \\\n",
       "0                 Checking account   \n",
       "1                 Credit reporting   \n",
       "2       Conventional home mortgage   \n",
       "3                 Credit reporting   \n",
       "4                 Credit reporting   \n",
       "...                            ...   \n",
       "249995               I do not know   \n",
       "249996            Credit reporting   \n",
       "249997            Credit reporting   \n",
       "249998            Credit reporting   \n",
       "249999            Credit reporting   \n",
       "\n",
       "                                                    Issue  \\\n",
       "0                                     Managing an account   \n",
       "1                    Incorrect information on your report   \n",
       "2       Applying for a mortgage or refinancing an exis...   \n",
       "3                             Improper use of your report   \n",
       "4                    Incorrect information on your report   \n",
       "...                                                   ...   \n",
       "249995  Took or threatened to take negative or legal a...   \n",
       "249996                        Improper use of your report   \n",
       "249997  Problem with a credit reporting company's inve...   \n",
       "249998               Incorrect information on your report   \n",
       "249999                        Improper use of your report   \n",
       "\n",
       "                                                Sub-issue  \\\n",
       "0                                Deposits and withdrawals   \n",
       "1                     Information belongs to someone else   \n",
       "2                                                     NaN   \n",
       "3           Reporting company used your report improperly   \n",
       "4                           Account information incorrect   \n",
       "...                                                   ...   \n",
       "249995            Threatened to sue you for very old debt   \n",
       "249996  Credit inquiries on your report that you don't...   \n",
       "249997  Their investigation did not fix an error on yo...   \n",
       "249998                Information belongs to someone else   \n",
       "249999      Reporting company used your report improperly   \n",
       "\n",
       "                             Consumer complaint narrative  \\\n",
       "0                                                     NaN   \n",
       "1                                                     NaN   \n",
       "2                                                     NaN   \n",
       "3                                                     NaN   \n",
       "4                                                     NaN   \n",
       "...                                                   ...   \n",
       "249995                                                NaN   \n",
       "249996  Submitted to have inquires removed by certify ...   \n",
       "249997                                                NaN   \n",
       "249998                                                NaN   \n",
       "249999                                                NaN   \n",
       "\n",
       "                                  Company public response  \\\n",
       "0                                                     NaN   \n",
       "1                                                     NaN   \n",
       "2       Company has responded to the consumer and the ...   \n",
       "3                                                     NaN   \n",
       "4                                                     NaN   \n",
       "...                                                   ...   \n",
       "249995                                                NaN   \n",
       "249996  Company has responded to the consumer and the ...   \n",
       "249997  Company has responded to the consumer and the ...   \n",
       "249998  Company believes it acted appropriately as aut...   \n",
       "249999                                                NaN   \n",
       "\n",
       "                                       Company State ZIP code  \\\n",
       "0                 TRUIST FINANCIAL CORPORATION    FL    34606   \n",
       "1                                EQUIFAX, INC.    AL    35405   \n",
       "2             InterLinc Mortgage Services, LLC    TX    77423   \n",
       "3          Experian Information Solutions Inc.    GA    30083   \n",
       "4               Bread Financial Holdings, Inc.    IL    60624   \n",
       "...                                        ...   ...      ...   \n",
       "249995                SN SERVICING CORPORATION    PA    19124   \n",
       "249996  TRANSUNION INTERMEDIATE HOLDINGS, INC.    CA    92078   \n",
       "249997     Experian Information Solutions Inc.    CA    91702   \n",
       "249998          COLLECTION BUREAU INCORPORATED    ID    83715   \n",
       "249999                   FORD MOTOR CREDIT CO.    TX    77521   \n",
       "\n",
       "                                 Tags Consumer consent provided?  \\\n",
       "0       Older American, Servicemember                        NaN   \n",
       "1                                 NaN                        NaN   \n",
       "2                                 NaN                        NaN   \n",
       "3                                 NaN                        NaN   \n",
       "4                                 NaN                        NaN   \n",
       "...                               ...                        ...   \n",
       "249995                            NaN       Consent not provided   \n",
       "249996                            NaN           Consent provided   \n",
       "249997                            NaN       Consent not provided   \n",
       "249998                            NaN       Consent not provided   \n",
       "249999                            NaN       Consent not provided   \n",
       "\n",
       "       Submitted via Date sent to company     Company response to consumer  \\\n",
       "0              Phone           2022-05-19                      In progress   \n",
       "1                Web           2022-06-01                      In progress   \n",
       "2              Phone           2022-05-24          Closed with explanation   \n",
       "3                Web           2022-05-24                      In progress   \n",
       "4                Web           2022-05-19  Closed with non-monetary relief   \n",
       "...              ...                  ...                              ...   \n",
       "249995           Web           2019-03-12          Closed with explanation   \n",
       "249996           Web           2019-03-07          Closed with explanation   \n",
       "249997           Web           2019-05-17          Closed with explanation   \n",
       "249998           Web           2019-05-16          Closed with explanation   \n",
       "249999           Web           2022-02-28          Closed with explanation   \n",
       "\n",
       "       Timely response? Consumer disputed?  Complaint ID  \n",
       "0                   Yes                NaN       5510622  \n",
       "1                   Yes                NaN       5620525  \n",
       "2                   Yes                NaN       5596512  \n",
       "3                   Yes                NaN       5594615  \n",
       "4                   Yes                NaN       5581308  \n",
       "...                 ...                ...           ...  \n",
       "249995              Yes                NaN       3170896  \n",
       "249996              Yes                NaN       3172487  \n",
       "249997              Yes                NaN       3245377  \n",
       "249998              Yes                NaN       3244796  \n",
       "249999              Yes                NaN       5268201  \n",
       "\n",
       "[250000 rows x 18 columns]>"
      ]
     },
     "execution_count": 46,
     "metadata": {},
     "output_type": "execute_result"
    }
   ],
   "source": [
    "df.product"
   ]
  },
  {
   "cell_type": "code",
   "execution_count": 47,
   "metadata": {},
   "outputs": [],
   "source": [
    "df.loc[df['Product'] == 'Credit reporting', 'Product'] = 'Credit reporting, credit repair services, or other personal consumer reports'\n",
    "df.loc[df['Product'] == 'Credit card', 'Product'] = 'Credit card or prepaid card'\n",
    "df.loc[df['Product'] == 'Payday loan', 'Product'] = 'Payday loan, title loan, or personal loan'\n",
    "df.loc[df['Product'] == 'Virtual currency', 'Product'] = 'Money transfer, virtual currency, or money service'\n",
    "df = df[df.Product != 'Other financial service']"
   ]
  },
  {
   "cell_type": "code",
   "execution_count": 48,
   "metadata": {},
   "outputs": [
    {
     "data": {
      "text/plain": [
       "<AxesSubplot:title={'center':'Number complaints in each product'}>"
      ]
     },
     "execution_count": 48,
     "metadata": {},
     "output_type": "execute_result"
    },
    {
     "data": {
      "image/png": "[encoded data removed]",
      "text/plain": [
       "<Figure size 432x288 with 1 Axes>"
      ]
     },
     "metadata": {
      "needs_background": "light"
     },
     "output_type": "display_data"
    }
   ],
   "source": [
    "df['Product'].value_counts().sort_values(ascending=False).plot(kind='bar', title='Number complaints in each product')"
   ]
  },
  {
   "cell_type": "code",
   "execution_count": 49,
   "metadata": {},
   "outputs": [],
   "source": [
    "def print_plot(index):\n",
    "    example = df[df.index == index][['Consumer complaint narrative', 'Product']].values[0]\n",
    "    if len(example) > 0:\n",
    "        print(example[0])\n",
    "        print('Product:', example[1])"
   ]
  },
  {
   "cell_type": "code",
   "execution_count": 50,
   "metadata": {},
   "outputs": [
    {
     "name": "stdout",
     "output_type": "stream",
     "text": [
      "I received alerts from XXXX that claimed I had no hard credit inquiries. Alarmed, I contacted XXXX by phone call on XX/XX/2022, since I have not applied, attempted, or requested any new lines of credit with anyone. I found out that a company called XXXX took it upon themselves to ding my credit with hard inquiries for a credit card and an apparent mortgage financing -- despite me never interacting with XXXX. Sure, they send me junk mail that gets shredded & recycled, but that is really not enough to run someone's credit. I tried disputing the information through XXXX 's website. That option was blocked for me on the website with a message that I must call XXXX about disputes. I called XXXX to request a dispute, & an XXXX staff member going by \" XXXX '' outright refused to start a dispute. XXXX stated I should contact the company first. I was firm that I most certainly do not need to contact a company that I have never interacted with that is acting in a fraudulent manner. XXXX still refused to file a dispute. I informed XXXX that refusing to initiate a dispute is likely to be a violation of the Fair Credit Reporting Act ( FCRA ). XXXX still refused & refused to get a supervisor, just leaving me on repeated holds. It appeared to be a way to abuse my time & continue denying my rights. The only option they claimed that could be offered was to place a fraud alert. XXXX would not allow me to freeze my credit either. I wrote XXXX through a XXXX dm stating the problems encountered. XXXXXXXX XXXX XXXX team claimed that I could submit a dispute online. I reminded them that was untrue. XXXX XXXX XXXX team then claimed I could contact someone at XXXX to start a dispute. I again reminded them I provided a written statement about what actions I already attempted when I initially contacted them. XXXX made no effort to resolve the initial problem of a random company making hard inquiries on my credit report.\n",
      "Product: Credit reporting, credit repair services, or other personal consumer reports\n"
     ]
    }
   ],
   "source": [
    "print_plot(100)"
   ]
  },
  {
   "cell_type": "code",
   "execution_count": 51,
   "metadata": {},
   "outputs": [],
   "source": [
    "df = df.reset_index(drop=True)\n",
    "REPLACE_BY_SPACE_RE = re.compile('[/(){}\\[\\]\\|@,;]')\n",
    "BAD_SYMBOLS_RE = re.compile('[^0-9a-z #+_]')\n",
    "\n",
    "def clean_text(text):\n",
    "    text = str(text)\n",
    "    text = text.lower()\n",
    "    text = REPLACE_BY_SPACE_RE.sub(' ', text) # replace REPLACE_BY_SPACE_RE symbols by space in text.\n",
    "    text = BAD_SYMBOLS_RE.sub('', text) # remove symbols which are in BAD_SYMBOLS_RE from text. \n",
    "    text = text.replace('x', '')\n",
    "    text = re.sub(r'\\W+', '', text)\n",
    "    text = ' '.join(word for word in text.split() if word not in STOPWORDS) # remove stopwords from text\n",
    "    return text\n",
    "df['Consumer complaint narrative'] = df['Consumer complaint narrative'].apply(clean_text)\n",
    "df['Consumer complaint narrative'] = df['Consumer complaint narrative'].str.replace('\\d+', '')\n"
   ]
  },
  {
   "cell_type": "code",
   "execution_count": 52,
   "metadata": {},
   "outputs": [
    {
     "name": "stdout",
     "output_type": "stream",
     "text": [
      "ireceivedalertsfromthatclaimedihadnohardcreditinquiriesalarmedicontactedbyphonecallonsinceihavenotappliedattemptedorrequestedanynewlinesofcreditwithanyoneifoundoutthatacompanycalledtookituponthemselvestodingmycreditwithhardinquiriesforacreditcardandanapparentmortgagefinancingdespitemeneverinteractingwithsuretheysendmejunkmailthatgetsshreddedrecycledbutthatisreallynotenoughtorunsomeonescredititrieddisputingtheinformationthroughswebsitethatoptionwasblockedformeonthewebsitewithamessagethatimustcallaboutdisputesicalledtorequestadisputeanstaffmembergoingbyoutrightrefusedtostartadisputestatedishouldcontactthecompanyfirstiwasfirmthatimostcertainlydonotneedtocontactacompanythatihaveneverinteractedwiththatisactinginafraudulentmannerstillrefusedtofileadisputeiinformedthatrefusingtoinitiateadisputeislikelytobeaviolationofthefaircreditreportingactfcrastillrefusedrefusedtogetasupervisorjustleavingmeonrepeatedholdsitappearedtobeawaytoabusemytimecontinuedenyingmyrightstheonlyoptiontheyclaimedthatcouldbeofferedwastoplaceafraudalertwouldnotallowmetofreezemycrediteitheriwrotethroughadmstatingtheproblemsencounteredteamclaimedthaticouldsubmitadisputeonlineiremindedthemthatwasuntrueteamthenclaimedicouldcontactsomeoneattostartadisputeiagainremindedthemiprovidedawrittenstatementaboutwhatactionsialreadyattemptedwheniinitiallycontactedthemmadenoefforttoresolvetheinitialproblemofarandomcompanymakinghardinquiriesonmycreditreport\n",
      "Product: Credit reporting, credit repair services, or other personal consumer reports\n"
     ]
    }
   ],
   "source": [
    "print_plot(100)"
   ]
  },
  {
   "cell_type": "code",
   "execution_count": 53,
   "metadata": {},
   "outputs": [
    {
     "name": "stdout",
     "output_type": "stream",
     "text": [
      "Found 55200 unique tokens.\n"
     ]
    }
   ],
   "source": [
    "# The maximum number of words to be used & Max number of words in each complaint\n",
    "MAX_NB_WORDS = 50000\n",
    "MAX_SEQUENCE_LENGTH = 250\n",
    "EMBEDDING_DIM = 100\n",
    "tokenizer = Tokenizer(num_words=MAX_NB_WORDS, filters='!\"#$%&()*+,-./:;<=>?@[\\]^_`{|}~', lower=True)\n",
    "tokenizer.fit_on_texts(df['Consumer complaint narrative'].values)\n",
    "word_index = tokenizer.word_index\n",
    "print('Found %s unique tokens.' % len(word_index))"
   ]
  },
  {
   "cell_type": "code",
   "execution_count": 54,
   "metadata": {},
   "outputs": [
    {
     "name": "stdout",
     "output_type": "stream",
     "text": [
      "Shape of data tensor: (249964, 250)\n"
     ]
    }
   ],
   "source": [
    "X = tokenizer.texts_to_sequences(df['Consumer complaint narrative'].values)\n",
    "X = pad_sequences(X, maxlen=MAX_SEQUENCE_LENGTH)\n",
    "print('Shape of data tensor:', X.shape)"
   ]
  },
  {
   "cell_type": "code",
   "execution_count": 55,
   "metadata": {},
   "outputs": [
    {
     "name": "stdout",
     "output_type": "stream",
     "text": [
      "Shape of label tensor: (249964, 13)\n"
     ]
    }
   ],
   "source": [
    "Y = pd.get_dummies(df['Product']).values\n",
    "print('Shape of label tensor:', Y.shape)"
   ]
  },
  {
   "cell_type": "markdown",
   "metadata": {},
   "source": [
    "# Split the Data"
   ]
  },
  {
   "cell_type": "code",
   "execution_count": 56,
   "metadata": {},
   "outputs": [
    {
     "name": "stdout",
     "output_type": "stream",
     "text": [
      "(224967, 250) (224967, 13)\n",
      "(24997, 250) (24997, 13)\n"
     ]
    }
   ],
   "source": [
    "X_train, X_test, Y_train, Y_test = train_test_split(X,Y, test_size = 0.10, random_state = 42)\n",
    "print(X_train.shape,Y_train.shape)\n",
    "print(X_test.shape,Y_test.shape)"
   ]
  },
  {
   "cell_type": "markdown",
   "metadata": {},
   "source": [
    "# MODEL"
   ]
  },
  {
   "cell_type": "code",
   "execution_count": 57,
   "metadata": {},
   "outputs": [
    {
     "name": "stdout",
     "output_type": "stream",
     "text": [
      "Epoch 1/5\n",
      "3164/3164 [==============================] - 3739s 1s/step - loss: 1.2885 - accuracy: 0.6621 - val_loss: 1.2383 - val_accuracy: 0.6662\n",
      "Epoch 2/5\n",
      "3164/3164 [==============================] - 3765s 1s/step - loss: 1.1277 - accuracy: 0.6941 - val_loss: 1.2539 - val_accuracy: 0.6534\n",
      "Epoch 3/5\n",
      "3164/3164 [==============================] - 3280s 1s/step - loss: 1.0346 - accuracy: 0.7251 - val_loss: 1.5238 - val_accuracy: 0.5966\n",
      "Epoch 4/5\n",
      "3164/3164 [==============================] - 3279s 1s/step - loss: 0.9373 - accuracy: 0.7580 - val_loss: 1.7469 - val_accuracy: 0.5928\n"
     ]
    }
   ],
   "source": [
    "model = Sequential()\n",
    "model.add(Embedding(MAX_NB_WORDS, EMBEDDING_DIM, input_length=X.shape[1]))\n",
    "model.add(SpatialDropout1D(0.2))\n",
    "model.add(LSTM(100, dropout=0.2, recurrent_dropout=0.2))\n",
    "model.add(Dense(13, activation='softmax'))\n",
    "model.compile(loss='categorical_crossentropy', optimizer='adam', metrics=['accuracy'])\n",
    "\n",
    "epochs = 5\n",
    "batch_size = 64\n",
    "\n",
    "history = model.fit(X_train, Y_train, epochs=epochs, batch_size=batch_size,validation_split=0.1,callbacks=[EarlyStopping(monitor='val_loss', patience=3, min_delta=0.0001)])\n"
   ]
  },
  {
   "cell_type": "markdown",
   "metadata": {},
   "source": [
    "# Model Evaluation"
   ]
  },
  {
   "cell_type": "code",
   "execution_count": 58,
   "metadata": {},
   "outputs": [
    {
     "name": "stdout",
     "output_type": "stream",
     "text": [
      "782/782 [==============================] - 60s 77ms/step - loss: 1.7587 - accuracy: 0.5903\n",
      "Test set\n",
      "  Loss: 1.759\n",
      "  Accuracy: 0.590\n"
     ]
    }
   ],
   "source": [
    "accr = model.evaluate(X_test,Y_test)\n",
    "print('Test set\\n  Loss: {:0.3f}\\n  Accuracy: {:0.3f}'.format(accr[0],accr[1]))"
   ]
  },
  {
   "cell_type": "code",
   "execution_count": 59,
   "metadata": {},
   "outputs": [
    {
     "data": {
      "image/png": "[encoded data removed]",
      "text/plain": [
       "<Figure size 432x288 with 1 Axes>"
      ]
     },
     "metadata": {
      "needs_background": "light"
     },
     "output_type": "display_data"
    }
   ],
   "source": [
    "plt.title('Loss')\n",
    "plt.plot(history.history['loss'], label='train')\n",
    "plt.plot(history.history['val_loss'], label='test')\n",
    "plt.legend()\n",
    "plt.show();"
   ]
  },
  {
   "cell_type": "code",
   "execution_count": 60,
   "metadata": {},
   "outputs": [
    {
     "data": {
      "image/png": "[encoded data removed]",
      "text/plain": [
       "<Figure size 432x288 with 1 Axes>"
      ]
     },
     "metadata": {
      "needs_background": "light"
     },
     "output_type": "display_data"
    }
   ],
   "source": [
    "plt.title('Accuracy')\n",
    "plt.plot(history.history['accuracy'], label='train')\n",
    "plt.plot(history.history['val_accuracy'], label='test')\n",
    "plt.legend()\n",
    "plt.show();"
   ]
  },
  {
   "cell_type": "markdown",
   "metadata": {},
   "source": [
    "# Test"
   ]
  },
  {
   "cell_type": "code",
   "execution_count": 62,
   "metadata": {},
   "outputs": [
    {
     "name": "stdout",
     "output_type": "stream",
     "text": [
      "[[3.3903199e-03 2.7276661e-02 2.5058975e-02 2.3875542e-01 1.9210611e-05\n",
      "  4.8007183e-02 9.9567110e-03 5.1473547e-03 4.2500910e-01 8.3637998e-02\n",
      "  5.3525502e-03 1.5015363e-02 1.1337308e-01]] Payday loan, title loan, or personal loan\n"
     ]
    }
   ],
   "source": [
    "new_complaint = ['I am a victim of identity theft and someone stole my identity and personal information to open up a Visa credit card account with Bank of Africa. The following Bank of Africa Visa credit card account do not belong to me : XXXX.']\n",
    "seq = tokenizer.texts_to_sequences(new_complaint)\n",
    "padded = pad_sequences(seq, maxlen=MAX_SEQUENCE_LENGTH)\n",
    "pred = model.predict(padded)\n",
    "labels = ['Credit reporting, credit repair services, or other personal consumer reports', 'Debt collection', 'Mortgage', 'Credit card or prepaid card', 'Student loan', 'Bank account or service', 'Checking or savings account', 'Consumer Loan', 'Payday loan, title loan, or personal loan', 'Vehicle loan or lease', 'Money transfer, virtual currency, or money service', 'Money transfers', 'Prepaid card']\n",
    "print(pred, labels[np.argmax(pred)])"
   ]
  }
 ],
 "metadata": {
  "kernelspec": {
   "display_name": "Python 3",
   "language": "python",
   "name": "python3"
  },
  "language_info": {
   "codemirror_mode": {
    "name": "ipython",
    "version": 3
   },
   "file_extension": ".py",
   "mimetype": "text/x-python",
   "name": "python",
   "nbconvert_exporter": "python",
   "pygments_lexer": "ipython3",
   "version": "3.8.5"
  }
 },
 "nbformat": 4,
 "nbformat_minor": 4
}
