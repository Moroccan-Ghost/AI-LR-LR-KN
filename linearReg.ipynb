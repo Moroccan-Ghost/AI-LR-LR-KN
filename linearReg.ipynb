{
 "cells": [
  {
   "cell_type": "code",
   "execution_count": 17,
   "metadata": {},
   "outputs": [],
   "source": [
    "#import pd\n",
    "import pandas as pd\n",
    "#sklearn\n",
    "from sklearn.model_selection import train_test_split\n",
    "from sklearn.linear_model import LinearRegression\n",
    "# Errors\n",
    "from sklearn.metrics import r2_score\n",
    "from sklearn.metrics import mean_squared_error"
   ]
  },
  {
   "cell_type": "code",
   "execution_count": 18,
   "metadata": {},
   "outputs": [],
   "source": [
    "#reading the dataSet\n",
    "dataset = pd.read_csv(\"houses.csv\")"
   ]
  },
  {
   "cell_type": "code",
   "execution_count": 19,
   "metadata": {},
   "outputs": [
    {
     "data": {
      "text/html": [
       "<div>\n",
       "<style scoped>\n",
       "    .dataframe tbody tr th:only-of-type {\n",
       "        vertical-align: middle;\n",
       "    }\n",
       "\n",
       "    .dataframe tbody tr th {\n",
       "        vertical-align: top;\n",
       "    }\n",
       "\n",
       "    .dataframe thead th {\n",
       "        text-align: right;\n",
       "    }\n",
       "</style>\n",
       "<table border=\"1\" class=\"dataframe\">\n",
       "  <thead>\n",
       "    <tr style=\"text-align: right;\">\n",
       "      <th></th>\n",
       "      <th>Transaction</th>\n",
       "      <th>House age</th>\n",
       "      <th>Distance to MRT station</th>\n",
       "      <th>Number of convenience stores</th>\n",
       "      <th>Latitude</th>\n",
       "      <th>Longitude</th>\n",
       "      <th>House unit price</th>\n",
       "    </tr>\n",
       "  </thead>\n",
       "  <tbody>\n",
       "    <tr>\n",
       "      <th>0</th>\n",
       "      <td>2012.917</td>\n",
       "      <td>32.0</td>\n",
       "      <td>84.87882</td>\n",
       "      <td>10</td>\n",
       "      <td>24.98298</td>\n",
       "      <td>121.54024</td>\n",
       "      <td>37.9</td>\n",
       "    </tr>\n",
       "    <tr>\n",
       "      <th>1</th>\n",
       "      <td>2012.917</td>\n",
       "      <td>19.5</td>\n",
       "      <td>306.59470</td>\n",
       "      <td>9</td>\n",
       "      <td>24.98034</td>\n",
       "      <td>121.53951</td>\n",
       "      <td>42.2</td>\n",
       "    </tr>\n",
       "    <tr>\n",
       "      <th>2</th>\n",
       "      <td>2013.583</td>\n",
       "      <td>13.3</td>\n",
       "      <td>561.98450</td>\n",
       "      <td>5</td>\n",
       "      <td>24.98746</td>\n",
       "      <td>121.54391</td>\n",
       "      <td>47.3</td>\n",
       "    </tr>\n",
       "    <tr>\n",
       "      <th>3</th>\n",
       "      <td>2013.500</td>\n",
       "      <td>13.3</td>\n",
       "      <td>561.98450</td>\n",
       "      <td>5</td>\n",
       "      <td>24.98746</td>\n",
       "      <td>121.54391</td>\n",
       "      <td>54.8</td>\n",
       "    </tr>\n",
       "    <tr>\n",
       "      <th>4</th>\n",
       "      <td>2012.833</td>\n",
       "      <td>5.0</td>\n",
       "      <td>390.56840</td>\n",
       "      <td>5</td>\n",
       "      <td>24.97937</td>\n",
       "      <td>121.54245</td>\n",
       "      <td>43.1</td>\n",
       "    </tr>\n",
       "  </tbody>\n",
       "</table>\n",
       "</div>"
      ],
      "text/plain": [
       "   Transaction  House age  Distance to MRT station  \\\n",
       "0     2012.917       32.0                 84.87882   \n",
       "1     2012.917       19.5                306.59470   \n",
       "2     2013.583       13.3                561.98450   \n",
       "3     2013.500       13.3                561.98450   \n",
       "4     2012.833        5.0                390.56840   \n",
       "\n",
       "   Number of convenience stores  Latitude  Longitude  House unit price  \n",
       "0                            10  24.98298  121.54024              37.9  \n",
       "1                             9  24.98034  121.53951              42.2  \n",
       "2                             5  24.98746  121.54391              47.3  \n",
       "3                             5  24.98746  121.54391              54.8  \n",
       "4                             5  24.97937  121.54245              43.1  "
      ]
     },
     "execution_count": 19,
     "metadata": {},
     "output_type": "execute_result"
    }
   ],
   "source": [
    "#vis the Data\n",
    "dataset.head()"
   ]
  },
  {
   "cell_type": "code",
   "execution_count": 20,
   "metadata": {},
   "outputs": [
    {
     "name": "stdout",
     "output_type": "stream",
     "text": [
      "<class 'pandas.core.frame.DataFrame'>\n",
      "RangeIndex: 414 entries, 0 to 413\n",
      "Data columns (total 7 columns):\n",
      " #   Column                        Non-Null Count  Dtype  \n",
      "---  ------                        --------------  -----  \n",
      " 0   Transaction                   414 non-null    float64\n",
      " 1   House age                     414 non-null    float64\n",
      " 2   Distance to MRT station       414 non-null    float64\n",
      " 3   Number of convenience stores  414 non-null    int64  \n",
      " 4   Latitude                      414 non-null    float64\n",
      " 5   Longitude                     414 non-null    float64\n",
      " 6   House unit price              414 non-null    float64\n",
      "dtypes: float64(6), int64(1)\n",
      "memory usage: 22.8 KB\n"
     ]
    }
   ],
   "source": [
    "dataset.info()"
   ]
  },
  {
   "cell_type": "code",
   "execution_count": 21,
   "metadata": {},
   "outputs": [],
   "source": [
    "x = dataset.drop('House unit price',axis=1)\n",
    "y = dataset['House unit price']"
   ]
  },
  {
   "cell_type": "code",
   "execution_count": 22,
   "metadata": {},
   "outputs": [
    {
     "data": {
      "text/html": [
       "<div>\n",
       "<style scoped>\n",
       "    .dataframe tbody tr th:only-of-type {\n",
       "        vertical-align: middle;\n",
       "    }\n",
       "\n",
       "    .dataframe tbody tr th {\n",
       "        vertical-align: top;\n",
       "    }\n",
       "\n",
       "    .dataframe thead th {\n",
       "        text-align: right;\n",
       "    }\n",
       "</style>\n",
       "<table border=\"1\" class=\"dataframe\">\n",
       "  <thead>\n",
       "    <tr style=\"text-align: right;\">\n",
       "      <th></th>\n",
       "      <th>Transaction</th>\n",
       "      <th>House age</th>\n",
       "      <th>Distance to MRT station</th>\n",
       "      <th>Number of convenience stores</th>\n",
       "      <th>Latitude</th>\n",
       "      <th>Longitude</th>\n",
       "    </tr>\n",
       "  </thead>\n",
       "  <tbody>\n",
       "    <tr>\n",
       "      <th>0</th>\n",
       "      <td>2012.917</td>\n",
       "      <td>32.0</td>\n",
       "      <td>84.87882</td>\n",
       "      <td>10</td>\n",
       "      <td>24.98298</td>\n",
       "      <td>121.54024</td>\n",
       "    </tr>\n",
       "    <tr>\n",
       "      <th>1</th>\n",
       "      <td>2012.917</td>\n",
       "      <td>19.5</td>\n",
       "      <td>306.59470</td>\n",
       "      <td>9</td>\n",
       "      <td>24.98034</td>\n",
       "      <td>121.53951</td>\n",
       "    </tr>\n",
       "    <tr>\n",
       "      <th>2</th>\n",
       "      <td>2013.583</td>\n",
       "      <td>13.3</td>\n",
       "      <td>561.98450</td>\n",
       "      <td>5</td>\n",
       "      <td>24.98746</td>\n",
       "      <td>121.54391</td>\n",
       "    </tr>\n",
       "    <tr>\n",
       "      <th>3</th>\n",
       "      <td>2013.500</td>\n",
       "      <td>13.3</td>\n",
       "      <td>561.98450</td>\n",
       "      <td>5</td>\n",
       "      <td>24.98746</td>\n",
       "      <td>121.54391</td>\n",
       "    </tr>\n",
       "    <tr>\n",
       "      <th>4</th>\n",
       "      <td>2012.833</td>\n",
       "      <td>5.0</td>\n",
       "      <td>390.56840</td>\n",
       "      <td>5</td>\n",
       "      <td>24.97937</td>\n",
       "      <td>121.54245</td>\n",
       "    </tr>\n",
       "    <tr>\n",
       "      <th>...</th>\n",
       "      <td>...</td>\n",
       "      <td>...</td>\n",
       "      <td>...</td>\n",
       "      <td>...</td>\n",
       "      <td>...</td>\n",
       "      <td>...</td>\n",
       "    </tr>\n",
       "    <tr>\n",
       "      <th>409</th>\n",
       "      <td>2013.000</td>\n",
       "      <td>13.7</td>\n",
       "      <td>4082.01500</td>\n",
       "      <td>0</td>\n",
       "      <td>24.94155</td>\n",
       "      <td>121.50381</td>\n",
       "    </tr>\n",
       "    <tr>\n",
       "      <th>410</th>\n",
       "      <td>2012.667</td>\n",
       "      <td>5.6</td>\n",
       "      <td>90.45606</td>\n",
       "      <td>9</td>\n",
       "      <td>24.97433</td>\n",
       "      <td>121.54310</td>\n",
       "    </tr>\n",
       "    <tr>\n",
       "      <th>411</th>\n",
       "      <td>2013.250</td>\n",
       "      <td>18.8</td>\n",
       "      <td>390.96960</td>\n",
       "      <td>7</td>\n",
       "      <td>24.97923</td>\n",
       "      <td>121.53986</td>\n",
       "    </tr>\n",
       "    <tr>\n",
       "      <th>412</th>\n",
       "      <td>2013.000</td>\n",
       "      <td>8.1</td>\n",
       "      <td>104.81010</td>\n",
       "      <td>5</td>\n",
       "      <td>24.96674</td>\n",
       "      <td>121.54067</td>\n",
       "    </tr>\n",
       "    <tr>\n",
       "      <th>413</th>\n",
       "      <td>2013.500</td>\n",
       "      <td>6.5</td>\n",
       "      <td>90.45606</td>\n",
       "      <td>9</td>\n",
       "      <td>24.97433</td>\n",
       "      <td>121.54310</td>\n",
       "    </tr>\n",
       "  </tbody>\n",
       "</table>\n",
       "<p>414 rows × 6 columns</p>\n",
       "</div>"
      ],
      "text/plain": [
       "     Transaction  House age  Distance to MRT station  \\\n",
       "0       2012.917       32.0                 84.87882   \n",
       "1       2012.917       19.5                306.59470   \n",
       "2       2013.583       13.3                561.98450   \n",
       "3       2013.500       13.3                561.98450   \n",
       "4       2012.833        5.0                390.56840   \n",
       "..           ...        ...                      ...   \n",
       "409     2013.000       13.7               4082.01500   \n",
       "410     2012.667        5.6                 90.45606   \n",
       "411     2013.250       18.8                390.96960   \n",
       "412     2013.000        8.1                104.81010   \n",
       "413     2013.500        6.5                 90.45606   \n",
       "\n",
       "     Number of convenience stores  Latitude  Longitude  \n",
       "0                              10  24.98298  121.54024  \n",
       "1                               9  24.98034  121.53951  \n",
       "2                               5  24.98746  121.54391  \n",
       "3                               5  24.98746  121.54391  \n",
       "4                               5  24.97937  121.54245  \n",
       "..                            ...       ...        ...  \n",
       "409                             0  24.94155  121.50381  \n",
       "410                             9  24.97433  121.54310  \n",
       "411                             7  24.97923  121.53986  \n",
       "412                             5  24.96674  121.54067  \n",
       "413                             9  24.97433  121.54310  \n",
       "\n",
       "[414 rows x 6 columns]"
      ]
     },
     "execution_count": 22,
     "metadata": {},
     "output_type": "execute_result"
    }
   ],
   "source": [
    "x"
   ]
  },
  {
   "cell_type": "code",
   "execution_count": 23,
   "metadata": {},
   "outputs": [
    {
     "data": {
      "text/plain": [
       "0      37.9\n",
       "1      42.2\n",
       "2      47.3\n",
       "3      54.8\n",
       "4      43.1\n",
       "       ... \n",
       "409    15.4\n",
       "410    50.0\n",
       "411    40.6\n",
       "412    52.5\n",
       "413    63.9\n",
       "Name: House unit price, Length: 414, dtype: float64"
      ]
     },
     "execution_count": 23,
     "metadata": {},
     "output_type": "execute_result"
    }
   ],
   "source": [
    "y"
   ]
  },
  {
   "cell_type": "code",
   "execution_count": 24,
   "metadata": {},
   "outputs": [],
   "source": [
    "# splitting the data\n",
    "x_train, x_test, y_train, y_test = train_test_split(x, y, test_size = 0.3)"
   ]
  },
  {
   "cell_type": "code",
   "execution_count": 25,
   "metadata": {},
   "outputs": [
    {
     "name": "stdout",
     "output_type": "stream",
     "text": [
      "X Train : (289, 6) , Y Train : (289,)\n",
      "X Test : (125, 6) , Y Test : (125,)\n"
     ]
    }
   ],
   "source": [
    "print(\"X Train : {0} , Y Train : {1}\".format(x_train.shape,y_train.shape))\n",
    "print(\"X Test : {0} , Y Test : {1}\".format(x_test.shape,y_test.shape))"
   ]
  },
  {
   "cell_type": "code",
   "execution_count": 26,
   "metadata": {},
   "outputs": [],
   "source": [
    "# creating the model\n",
    "def model(x_train,y_train):\n",
    "    mod = LinearRegression()\n",
    "    # fitting the training data\n",
    "    mod.fit(x_train,y_train)\n",
    "    return mod"
   ]
  },
  {
   "cell_type": "code",
   "execution_count": 27,
   "metadata": {},
   "outputs": [],
   "source": [
    "# creating the model\n",
    "model = model(x_train,y_train)"
   ]
  },
  {
   "cell_type": "code",
   "execution_count": 28,
   "metadata": {},
   "outputs": [],
   "source": [
    "prediction =  model.predict(x_test)"
   ]
  },
  {
   "cell_type": "code",
   "execution_count": 29,
   "metadata": {},
   "outputs": [
    {
     "data": {
      "text/plain": [
       "array([44.93952638, 47.41997331, 23.23903596, 45.00744046, 34.8742115 ,\n",
       "       49.83041247, 46.66321015, 50.05110842, 37.47614562, 43.94548775,\n",
       "       45.57555686, 42.38961643, 37.05668132, 40.95605909, 47.22037979,\n",
       "       40.50415053, 55.25465679, 34.01774749, 49.22038385, 31.41304964,\n",
       "       45.52722967, 40.99001012, 44.43942429, 42.65702247, 40.05220153,\n",
       "       13.17629878, 27.17966118, 43.57415462, 14.82722453, 36.55780235,\n",
       "       46.43135634, 48.92605358, 31.33640669, 22.75457766, 26.63878846,\n",
       "       54.73784533, 41.02353895, 43.71914061, 46.49715409, 39.9463756 ,\n",
       "       11.20888911, 33.24643675, 47.50071658, 25.18903726, 44.69673155,\n",
       "       20.31230595, 42.08654545, 38.28671199, 31.00004804, 35.26186289,\n",
       "       15.68033763, 49.7038969 , 53.20026056, 44.63428214, 46.16430125,\n",
       "       51.00818629, 47.21769645, 40.36861534, 33.40417594, 36.48534849,\n",
       "       34.05718504, 37.30705132, 40.11793218, 31.21186379, 48.91225779,\n",
       "       47.67514678, 45.47956897,  7.67026966, 52.23218841, 40.23498858,\n",
       "       52.00499409, 39.36804119, 47.58312859, 14.48453192, 51.56467243,\n",
       "       43.2873242 , 47.59780685, 45.6045696 , 44.74354922, 44.88390323,\n",
       "       53.0148924 , 36.58662869, 48.51718043, 36.81101814, 39.02129517,\n",
       "       41.50357744, 45.96755134, 43.26197679, 39.67737748, 41.5110768 ,\n",
       "       35.67682935, 47.42057237, 32.20197202, 13.66678319, 31.39902193,\n",
       "       48.46227866, 47.22037979, 38.23463516, 43.10266495, 44.58013224,\n",
       "       -0.57668896, 31.20992783, 30.38018456, 25.35039897, 45.42374975,\n",
       "       43.35617025, 43.45356094, 43.6356856 , 45.58040163, 39.3363648 ,\n",
       "       16.17382904, 11.58342516, 44.76323647, 33.36478298, 44.3646678 ,\n",
       "       47.67514678, 46.60827888, 12.83081939, 40.06716345, 34.34631518,\n",
       "       44.05697064, 41.97545811, 54.14624543, 24.39649217, 31.06880169])"
      ]
     },
     "execution_count": 29,
     "metadata": {},
     "output_type": "execute_result"
    }
   ],
   "source": [
    "prediction"
   ]
  },
  {
   "cell_type": "code",
   "execution_count": 30,
   "metadata": {},
   "outputs": [
    {
     "data": {
      "text/plain": [
       "72     36.3\n",
       "241    41.4\n",
       "55     13.7\n",
       "123    45.5\n",
       "126    62.9\n",
       "       ... \n",
       "233    32.4\n",
       "338    36.3\n",
       "281    44.8\n",
       "330    12.8\n",
       "277    27.7\n",
       "Name: House unit price, Length: 125, dtype: float64"
      ]
     },
     "execution_count": 30,
     "metadata": {},
     "output_type": "execute_result"
    }
   ],
   "source": [
    "y_test"
   ]
  },
  {
   "cell_type": "code",
   "execution_count": 31,
   "metadata": {},
   "outputs": [],
   "source": [
    "def cout(test,pred):\n",
    "    score=r2_score(test,pred)\n",
    "    print('r2 socre is : ',score)\n",
    "    print('mean sqrd error : ',mean_squared_error(test,pred))"
   ]
  },
  {
   "cell_type": "code",
   "execution_count": 32,
   "metadata": {},
   "outputs": [
    {
     "name": "stdout",
     "output_type": "stream",
     "text": [
      "r2 socre is :  0.5150540380417375\n",
      "mean sqrd error :  91.08227559124258\n"
     ]
    }
   ],
   "source": [
    "cout(y_test,prediction)"
   ]
  },
  {
   "cell_type": "code",
   "execution_count": null,
   "metadata": {},
   "outputs": [],
   "source": []
  }
 ],
 "metadata": {
  "kernelspec": {
   "display_name": "Python 3",
   "language": "python",
   "name": "python3"
  },
  "language_info": {
   "codemirror_mode": {
    "name": "ipython",
    "version": 3
   },
   "file_extension": ".py",
   "mimetype": "text/x-python",
   "name": "python",
   "nbconvert_exporter": "python",
   "pygments_lexer": "ipython3",
   "version": "3.8.5"
  }
 },
 "nbformat": 4,
 "nbformat_minor": 4
}
